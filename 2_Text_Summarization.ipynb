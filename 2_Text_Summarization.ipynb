{
 "cells": [
  {
   "cell_type": "code",
   "execution_count": 1,
   "id": "701be7b2",
   "metadata": {},
   "outputs": [],
   "source": [
    "from transformers import AutoTokenizer, AutoModelForSeq2SeqLM, AutoModelForCausalLM, AutoModelForImageTextToText, pipeline\n",
    "from huggingface_hub import login\n",
    "from rouge import Rouge\n",
    "import re\n",
    "import pandas as pd\n",
    "import numpy as np\n",
    "from typing import TypedDict\n",
    "from IPython.display import Image\n",
    "import os\n",
    "from langgraph.graph import StateGraph, END\n",
    "from langchain_core.runnables.graph import MermaidDrawMethod\n",
    "import torch\n",
    "from peft import PeftModel\n",
    "from tqdm.auto import tqdm\n",
    "from dotenv import load_dotenv\n",
    "from transformers import logging\n",
    "logging.set_verbosity_error()"
   ]
  },
  {
   "cell_type": "markdown",
   "id": "5f0c4bb1-dd06-452f-993a-c73e2f1b85de",
   "metadata": {},
   "source": [
    "# 1. Original T5"
   ]
  },
  {
   "cell_type": "code",
   "execution_count": 2,
   "id": "0c420511",
   "metadata": {},
   "outputs": [],
   "source": [
    "combined_text = pd.read_csv(\"data/combined_text.csv\")"
   ]
  },
  {
   "cell_type": "code",
   "execution_count": 3,
   "id": "4998aa36-2220-4937-b56c-4c1d0fea1aa1",
   "metadata": {},
   "outputs": [
    {
     "name": "stderr",
     "output_type": "stream",
     "text": [
      "Device set to use cuda:0\n"
     ]
    }
   ],
   "source": [
    "summarizer =  pipeline(\"summarization\", model=\"t5-small\",tokenizer=\"t5-small\")"
   ]
  },
  {
   "cell_type": "code",
   "execution_count": 4,
   "id": "d3101597-f5c5-4ea9-9e57-4a7a2df8eede",
   "metadata": {},
   "outputs": [],
   "source": [
    "def summarize_text(text, min_chars=500, max_len=150, min_len=40):\n",
    "    if len(text.strip()) < min_chars:\n",
    "        return \"\"\n",
    "    try:\n",
    "        prompt = \"summarize: \" + text.strip()\n",
    "        summary = summarizer(prompt, max_length=max_len, min_length=min_len, do_sample=False)\n",
    "        return summary[0]['summary_text']\n",
    "    except Exception as e:\n",
    "        print(f\"Error: {e}\")\n",
    "        return \"\""
   ]
  },
  {
   "cell_type": "code",
   "execution_count": 5,
   "id": "4ed9e8f1-31f5-42e0-a01e-41a07dab437e",
   "metadata": {},
   "outputs": [],
   "source": [
    "def summarize_long(text):\n",
    "    return summarize_text(text, max_len=400, min_len=150)\n",
    "\n",
    "def summarize_short(text):\n",
    "    return summarize_text(text,max_len=150, min_len=100)\n",
    "\n",
    "def summarize_tiny(text):\n",
    "    return summarize_text(text, max_len=40, min_len=15)"
   ]
  },
  {
   "cell_type": "code",
   "execution_count": 8,
   "id": "e4ed365a-5b49-451d-936a-b94a54e014fd",
   "metadata": {},
   "outputs": [
    {
     "name": "stderr",
     "output_type": "stream",
     "text": [
      "Token indices sequence length is longer than the specified maximum sequence length for this model (597 > 512). Running this sequence through the model will result in indexing errors\n",
      "Your max_length is set to 400, but your input_length is only 398. Since this is a summarization task, where outputs shorter than the input are typically wanted, you might consider decreasing max_length manually, e.g. summarizer('...', max_length=199)\n",
      "You seem to be using the pipelines sequentially on GPU. In order to maximize efficiency please use a dataset\n",
      "Your max_length is set to 400, but your input_length is only 342. Since this is a summarization task, where outputs shorter than the input are typically wanted, you might consider decreasing max_length manually, e.g. summarizer('...', max_length=171)\n",
      "Your max_length is set to 400, but your input_length is only 198. Since this is a summarization task, where outputs shorter than the input are typically wanted, you might consider decreasing max_length manually, e.g. summarizer('...', max_length=99)\n",
      "Your max_length is set to 400, but your input_length is only 167. Since this is a summarization task, where outputs shorter than the input are typically wanted, you might consider decreasing max_length manually, e.g. summarizer('...', max_length=83)\n",
      "Your max_length is set to 400, but your input_length is only 352. Since this is a summarization task, where outputs shorter than the input are typically wanted, you might consider decreasing max_length manually, e.g. summarizer('...', max_length=176)\n",
      "Your max_length is set to 400, but your input_length is only 213. Since this is a summarization task, where outputs shorter than the input are typically wanted, you might consider decreasing max_length manually, e.g. summarizer('...', max_length=106)\n",
      "Your max_length is set to 400, but your input_length is only 266. Since this is a summarization task, where outputs shorter than the input are typically wanted, you might consider decreasing max_length manually, e.g. summarizer('...', max_length=133)\n",
      "Your max_length is set to 400, but your input_length is only 378. Since this is a summarization task, where outputs shorter than the input are typically wanted, you might consider decreasing max_length manually, e.g. summarizer('...', max_length=189)\n",
      "Your max_length is set to 400, but your input_length is only 307. Since this is a summarization task, where outputs shorter than the input are typically wanted, you might consider decreasing max_length manually, e.g. summarizer('...', max_length=153)\n",
      "Your max_length is set to 400, but your input_length is only 238. Since this is a summarization task, where outputs shorter than the input are typically wanted, you might consider decreasing max_length manually, e.g. summarizer('...', max_length=119)\n",
      "Your max_length is set to 400, but your input_length is only 217. Since this is a summarization task, where outputs shorter than the input are typically wanted, you might consider decreasing max_length manually, e.g. summarizer('...', max_length=108)\n",
      "Your max_length is set to 400, but your input_length is only 368. Since this is a summarization task, where outputs shorter than the input are typically wanted, you might consider decreasing max_length manually, e.g. summarizer('...', max_length=184)\n",
      "Your max_length is set to 400, but your input_length is only 349. Since this is a summarization task, where outputs shorter than the input are typically wanted, you might consider decreasing max_length manually, e.g. summarizer('...', max_length=174)\n"
     ]
    }
   ],
   "source": [
    "combined_text['summary_long'] = combined_text['combined_cleaned_whisper_text'].apply(summarize_long)\n",
    "combined_text['summary_short'] = combined_text['combined_cleaned_whisper_text'].apply(summarize_short)\n",
    "combined_text['summary_tiny'] = combined_text['combined_cleaned_whisper_text'].apply(summarize_tiny)"
   ]
  },
  {
   "cell_type": "code",
   "execution_count": null,
   "id": "69a112d1-4fc2-407c-9a47-24f7cfdb8348",
   "metadata": {},
   "outputs": [],
   "source": [
    "combined_text.to_csv(\"data/original_t5_summary.csv\", index = False)"
   ]
  },
  {
   "cell_type": "markdown",
   "id": "d14955de",
   "metadata": {},
   "source": [
    "# 2. T5 Fine-Tuning"
   ]
  },
  {
   "cell_type": "code",
   "execution_count": 59,
   "id": "42bb10cf",
   "metadata": {},
   "outputs": [
    {
     "name": "stderr",
     "output_type": "stream",
     "text": [
      "Device set to use mps:0\n",
      "The model 'PeftModelForSeq2SeqLM' is not supported for summarization. Supported models are ['BartForConditionalGeneration', 'BigBirdPegasusForConditionalGeneration', 'BlenderbotForConditionalGeneration', 'BlenderbotSmallForConditionalGeneration', 'EncoderDecoderModel', 'FSMTForConditionalGeneration', 'GPTSanJapaneseForConditionalGeneration', 'LEDForConditionalGeneration', 'LongT5ForConditionalGeneration', 'M2M100ForConditionalGeneration', 'MarianMTModel', 'MBartForConditionalGeneration', 'MT5ForConditionalGeneration', 'MvpForConditionalGeneration', 'NllbMoeForConditionalGeneration', 'PegasusForConditionalGeneration', 'PegasusXForConditionalGeneration', 'PLBartForConditionalGeneration', 'ProphetNetForConditionalGeneration', 'Qwen2AudioForConditionalGeneration', 'SeamlessM4TForTextToText', 'SeamlessM4Tv2ForTextToText', 'SwitchTransformersForConditionalGeneration', 'T5ForConditionalGeneration', 'UMT5ForConditionalGeneration', 'XLMProphetNetForConditionalGeneration'].\n",
      "Device set to use mps:0\n",
      "The model 'PeftModelForSeq2SeqLM' is not supported for summarization. Supported models are ['BartForConditionalGeneration', 'BigBirdPegasusForConditionalGeneration', 'BlenderbotForConditionalGeneration', 'BlenderbotSmallForConditionalGeneration', 'EncoderDecoderModel', 'FSMTForConditionalGeneration', 'GPTSanJapaneseForConditionalGeneration', 'LEDForConditionalGeneration', 'LongT5ForConditionalGeneration', 'M2M100ForConditionalGeneration', 'MarianMTModel', 'MBartForConditionalGeneration', 'MT5ForConditionalGeneration', 'MvpForConditionalGeneration', 'NllbMoeForConditionalGeneration', 'PegasusForConditionalGeneration', 'PegasusXForConditionalGeneration', 'PLBartForConditionalGeneration', 'ProphetNetForConditionalGeneration', 'Qwen2AudioForConditionalGeneration', 'SeamlessM4TForTextToText', 'SeamlessM4Tv2ForTextToText', 'SwitchTransformersForConditionalGeneration', 'T5ForConditionalGeneration', 'UMT5ForConditionalGeneration', 'XLMProphetNetForConditionalGeneration'].\n",
      "Device set to use mps:0\n",
      "The model 'PeftModelForSeq2SeqLM' is not supported for summarization. Supported models are ['BartForConditionalGeneration', 'BigBirdPegasusForConditionalGeneration', 'BlenderbotForConditionalGeneration', 'BlenderbotSmallForConditionalGeneration', 'EncoderDecoderModel', 'FSMTForConditionalGeneration', 'GPTSanJapaneseForConditionalGeneration', 'LEDForConditionalGeneration', 'LongT5ForConditionalGeneration', 'M2M100ForConditionalGeneration', 'MarianMTModel', 'MBartForConditionalGeneration', 'MT5ForConditionalGeneration', 'MvpForConditionalGeneration', 'NllbMoeForConditionalGeneration', 'PegasusForConditionalGeneration', 'PegasusXForConditionalGeneration', 'PLBartForConditionalGeneration', 'ProphetNetForConditionalGeneration', 'Qwen2AudioForConditionalGeneration', 'SeamlessM4TForTextToText', 'SeamlessM4Tv2ForTextToText', 'SwitchTransformersForConditionalGeneration', 'T5ForConditionalGeneration', 'UMT5ForConditionalGeneration', 'XLMProphetNetForConditionalGeneration'].\n"
     ]
    }
   ],
   "source": [
    "tokenizer = AutoTokenizer.from_pretrained(\"t5-small\")\n",
    "\n",
    "adapter_sizes = [\"tiny\", \"short\", \"long\"]\n",
    "summarizers = {}\n",
    "\n",
    "for size in adapter_sizes:\n",
    "    adapter_path = os.path.join(\"LoRA_Weights\", f\"lora_adapters_{size}\")\n",
    "    \n",
    "    # load fresh model for each size\n",
    "    base_model = AutoModelForSeq2SeqLM.from_pretrained(\"t5-small\")\n",
    "    model_with_lora = PeftModel.from_pretrained(base_model, adapter_path)\n",
    "\n",
    "    summarizer = pipeline(\n",
    "        \"summarization\",\n",
    "        model=model_with_lora,\n",
    "        tokenizer=tokenizer\n",
    "    )\n",
    "\n",
    "    summarizers[size] = summarizer"
   ]
  },
  {
   "cell_type": "code",
   "execution_count": 77,
   "id": "31f3c13d",
   "metadata": {},
   "outputs": [],
   "source": [
    "# Control length of summaries per style\n",
    "length_map = {\n",
    "    \"tiny\": (10, 40),\n",
    "    \"short\": (100, 150),\n",
    "    \"long\": (150, 400)\n",
    "}\n",
    "\n",
    "def clean_summary(text, add_paragraphs=False):\n",
    "    if not text:\n",
    "        return \"\"\n",
    "    \n",
    "    # ensure proper ending punctuation\n",
    "    if not text.endswith(('.', '!', '?')):\n",
    "        # find the last sentence ending or comma\n",
    "        # since a lot of the tiny paragraphs ends at comma, so we cleaned it up more here\n",
    "        last_period = max(text.rfind('.'), text.rfind('!'), text.rfind('?'))\n",
    "        last_comma = text.rfind(',')\n",
    "        \n",
    "        if last_period > 0 and last_period > last_comma:\n",
    "            # if it is a proper sentence, then just go with it\n",
    "            text = text[:last_period+1]\n",
    "        elif last_comma > 0:\n",
    "            # if we have comma but no proper sentence ending, replace the comma with period\n",
    "            # seen lots of case are like this for tiny\n",
    "            text = text[:last_comma] + \".\"\n",
    "        else:\n",
    "            # if no ending found, add period\n",
    "            text = text.rstrip() + \".\"\n",
    "    \n",
    "    # add pargraph breaks for long summary\n",
    "    # since the data used for fine-tuning model is mostly 3 sentences for each paragraph, so we break the paragraph for every 3 sentences.\n",
    "    if add_paragraphs:\n",
    "        abbreviations = [r\"Mr\\.\", r\"Mrs\\.\", r\"Ms\\.\", r\"Dr\\.\"]\n",
    "        # protect abbreviations by replacing their “.” with a placeholder\n",
    "        # clean out the dot on the abbreviation\n",
    "        protected = text\n",
    "        for abbr in abbreviations:\n",
    "            protected = re.sub(abbr, lambda m: m.group(0).replace(\".\", \"<DOT>\"),protected)\n",
    "\n",
    "        # split based on the sentence punctuation\n",
    "        parts = re.split(r'(?<=[.!?])\\s+', protected)\n",
    "\n",
    "        # restore the '.' in the abbreviation\n",
    "        sentences = [p.replace(\"<DOT>\", \".\") for p in parts]\n",
    "        \n",
    "        # only add paragraphs if we have enough sentences\n",
    "        if len(sentences) >= 4:  # need at least 4 sentences to have more than one paragraph\n",
    "            paragraphs = []\n",
    "            current_para = []\n",
    "            \n",
    "            for i, sentence in enumerate(sentences):\n",
    "                current_para.append(sentence)\n",
    "                \n",
    "                # create a paragraph break after every 3rd sentence\n",
    "                if (i + 1) % 3 == 0 and i < len(sentences) - 1:\n",
    "                    paragraphs.append(' '.join(current_para))\n",
    "                    current_para = []\n",
    "            \n",
    "            # add any remaining sentences as the final paragraph\n",
    "            if current_para:\n",
    "                paragraphs.append(' '.join(current_para))\n",
    "            \n",
    "            text = '\\n\\n'.join(paragraphs)\n",
    "    \n",
    "    return text"
   ]
  },
  {
   "cell_type": "code",
   "execution_count": 78,
   "id": "31fdd57c",
   "metadata": {},
   "outputs": [],
   "source": [
    "def summarize_finetuned(text, length_type=\"short\"):\n",
    "    if length_type not in length_map:\n",
    "        raise ValueError(f\"Length type '{length_type}' not supported. Use: {list(length_map.keys())}\")\n",
    "\n",
    "    min_len, max_len = length_map[length_type]\n",
    "\n",
    "    try:\n",
    "        # use the correct summarizer based on length_type\n",
    "        summarizer = summarizers[length_type]\n",
    "        \n",
    "        prompt = (\"summarize: \" + text.strip())[:1024]\n",
    "        result = summarizer(prompt, min_length = min_len, max_length=max_len, do_sample=False)\n",
    "        summary = result[0][\"summary_text\"]\n",
    "        \n",
    "        # apply cleaning and formatting based on length type\n",
    "        add_paragraphs = length_type == \"long\"  # Only add paragraphs for long summaries\n",
    "        summary = clean_summary(summary, add_paragraphs)\n",
    "        \n",
    "        return summary.strip()\n",
    "    except Exception as e:\n",
    "        print(f\"Error: {e}\")\n",
    "        return \"\""
   ]
  },
  {
   "cell_type": "code",
   "execution_count": 83,
   "id": "9caa9a54",
   "metadata": {},
   "outputs": [
    {
     "name": "stdout",
     "output_type": "stream",
     "text": [
      "Tiny Summary:\n",
      "Mr. Quilter is the apostle of the middle classes, and he tells us that at this festive season, with Christmas and roast beef looming before us similarly drawn from eating.\n",
      "Short Summary:\n",
      "Mr. Quilter is the apostle of the middle classes and we welcome his gospel. He has doubts whether Sir Fred Layton's work is really greek after all and can discover in it, but little of rocky ithaca lynelles pictures are a sort of upgards and atom paintings, and masons exquisite ittles are as national as a jingo poem. Mr. Birkett fosters landscapes smile at one much in the same way as Mr. Carker used to flash his teeth, and Mr. Clark gives his sitter a cheerful slap on the back.\n",
      "Long Summary:\n",
      "Mr. Quilter, an advocate for the middle class, is the apostle of the middle classes and is glad to welcome his gospel. He tells us that at this festive season of the year, roast beef looms before us, drawing from eating and its results most readily to the mind. He has doubts whether Sir Frederick Layton's work is really greek after all, and can discover little of rocky Ithaca.\n",
      "\n",
      "Lynelles pictures are a sort of upgards and atom paintings, and Masons, exquisite ittles are as national as a Jingo poem. Mr. Birkett fosters landscapes smile at one much in the same way as Mr. Carker used to flash his teeth, and Mr. John Collier gives his sitter a cheerful slap on the back before saying like a shampoo or turkish bath. He asks that he asks us about how luminous these criticisms are on the general principles of art and Mr. Krilter writes with equal lucidity painting as he says it is unnecessary for us to point out how delicate they are in expression.\n"
     ]
    }
   ],
   "source": [
    "text = combined_text['combined_cleaned_whisper_text'].loc[0]\n",
    "\n",
    "print(f\"Tiny Summary:\\n{summarize_finetuned(text, 'tiny')}\")\n",
    "print(f\"Short Summary:\\n{summarize_finetuned(text, 'short')}\")\n",
    "print(f\"Long Summary:\\n{summarize_finetuned(text, 'long')}\")"
   ]
  },
  {
   "cell_type": "code",
   "execution_count": 84,
   "id": "0a40fd3c",
   "metadata": {},
   "outputs": [
    {
     "name": "stdout",
     "output_type": "stream",
     "text": [
      "Tiny Summary:\n",
      "The king is flooded with disgrace, and his friends ask for him to send him away, but he doesn't work too hard, especially since shaggy.\n",
      "Short Summary:\n",
      "Poroshaegi sits in the room beside the dragon and witnessed the occurrences with interest. The little girl had been asleep, but she heard the raps and opened the door. The king is flooded with disgrace and friends are asking for him to send him away, but he would not go, and eats and sleeps steadily, despite shaggy's lack of work in these dominions and our norms, which worries us to keep them busy.\n",
      "Long Summary:\n",
      "Polychrome, an advocate for the middle class, argues that the lovely rose princess has become a fiddle without a bow, and Poroshaegi sits there, accuing Dove, who has gone and gone for good, answered Polychrom, who had managed to squeeze into the room beside the dragon. The little girl had been asleep, but she heard the raps and opened the door, and the king is flooded disgrace, and her friends are asking for you. The king has remained a prisoner, only because he wish to be one, and with this, he bursts the stout chains as easily as if they had been threaded.\n",
      "\n",
      "As the little girl is asleep, the girl is a little girl's friend asks for him to send him away, but he refuses to go, and he eats and sleeps steadily replay the nooking, and I hope he doesn't work too hard, because shaggy isn't working at all.\n"
     ]
    }
   ],
   "source": [
    "text = combined_text['combined_cleaned_whisper_text'].loc[1]\n",
    "\n",
    "print(f\"Tiny Summary:\\n{summarize_finetuned(text, 'tiny')}\")\n",
    "print(f\"Short Summary:\\n{summarize_finetuned(text, 'short')}\")\n",
    "print(f\"Long Summary:\\n{summarize_finetuned(text, 'long')}\")"
   ]
  },
  {
   "cell_type": "code",
   "execution_count": 88,
   "id": "8b4641db",
   "metadata": {},
   "outputs": [
    {
     "name": "stderr",
     "output_type": "stream",
     "text": [
      "  0%|          | 0/97 [00:00<?, ?it/s]huggingface/tokenizers: The current process just got forked, after parallelism has already been used. Disabling parallelism to avoid deadlocks...\n",
      "To disable this warning, you can either:\n",
      "\t- Avoid using `tokenizers` before the fork if possible\n",
      "\t- Explicitly set the environment variable TOKENIZERS_PARALLELISM=(true | false)\n",
      "100%|██████████| 97/97 [02:27<00:00,  1.52s/it]\n",
      "100%|██████████| 97/97 [06:41<00:00,  4.14s/it]\n",
      "100%|██████████| 97/97 [13:57<00:00,  8.64s/it]\n"
     ]
    }
   ],
   "source": [
    "# use tqdm to see the progress bar of the summarization\n",
    "tqdm.pandas()\n",
    "\n",
    "# create a new variable for the summarization\n",
    "text_with_summary = combined_text.copy()\n",
    "\n",
    "# do for loop for every style\n",
    "for style in [\"tiny\", \"short\", \"long\"]:\n",
    "    text_with_summary[f\"summary_{style}\"] = (text_with_summary[\"combined_cleaned_whisper_text\"]\n",
    "                                             .progress_apply(lambda txt: summarize_finetuned(txt, length_type=style)))"
   ]
  },
  {
   "cell_type": "code",
   "execution_count": 89,
   "id": "3405cc30",
   "metadata": {},
   "outputs": [
    {
     "data": {
      "text/html": [
       "<div>\n",
       "<style scoped>\n",
       "    .dataframe tbody tr th:only-of-type {\n",
       "        vertical-align: middle;\n",
       "    }\n",
       "\n",
       "    .dataframe tbody tr th {\n",
       "        vertical-align: top;\n",
       "    }\n",
       "\n",
       "    .dataframe thead th {\n",
       "        text-align: right;\n",
       "    }\n",
       "</style>\n",
       "<table border=\"1\" class=\"dataframe\">\n",
       "  <thead>\n",
       "    <tr style=\"text-align: right;\">\n",
       "      <th></th>\n",
       "      <th>folder_path</th>\n",
       "      <th>combined_cleaned_whisper_text</th>\n",
       "      <th>named_entities</th>\n",
       "      <th>summary_tiny</th>\n",
       "      <th>summary_short</th>\n",
       "      <th>summary_long</th>\n",
       "    </tr>\n",
       "  </thead>\n",
       "  <tbody>\n",
       "    <tr>\n",
       "      <th>0</th>\n",
       "      <td>1272/128104</td>\n",
       "      <td>mr quilter is the apostle of the middle classes and we are glad to welcome his gospel nor is mr quilters manner less interesting than his matter he tells us that at this festive season of the year with christmas and roast beef looming before us similarly drawn from eating and its results occur most readily to the mind he has graved doubts whether sir frederick laytons work is really greek after all and can discover in it but little of rocky ithaca lynelles pictures are a sort of upgards and atom paintings and masons exquisite ittles are as national as a jingo poem mr birkett fosters landscapes smile at one much in the same way that mr carker used to flash his teeth and mr john collier gives his sitter a cheerful slap on the back before he says like a shampoo or a turkish bath next man it is obviously unnecessary for us to point out how luminous these criticisms are how delicate in expression on the general principles of art and mr krilter writes with equal lucidity painting he tells us is of a different quality to mathematics and finish in art is adding more factor as for etchings there are two kinds british and foreign he laments most bitterly the divorce that has been made between decorative art and what we usually call pictures mixed a customary appeal to the last judgment and reminds us that in the great days of art michelangelo was the furnishing upholsterer near the fire and the ornaments fred brought home from india on the mental board in fact he is quite severe on mr ruskin for not recognizing that a picture should denote the frailty of man and remarks with pleasing courtesy and felicitous grace that many phases were feeling only unfortunately his own work never does get good mr quilter has missed his chance for he has failed even to make himself the tupper of painting by harry quilter ma</td>\n",
       "      <td>[(quilter, PERSON), (quilters, PERSON), (this festive season of the year, DATE), (christmas, DATE), (frederick laytons, PERSON), (greek, NORP), (upgards, PERSON), (atom, PERSON), (masons, PERSON), (birkett, PERSON), (carker, PERSON), (john collier, PERSON), (turkish, NORP), (krilter, PERSON), (two, CARDINAL), (british, NORP), (the great days, DATE), (michelangelo, PERSON), (fred, PERSON), (india, GPE), (the mental board, ORG), (ruskin, PERSON), (quilter, PERSON), (harry quilter ma, PERSON)]</td>\n",
       "      <td>Mr. Quilter is the apostle of the middle classes, and he tells us that at this festive season, with Christmas and roast beef looming before us similarly drawn from eating.</td>\n",
       "      <td>Mr. Quilter is the apostle of the middle classes and we welcome his gospel. He has doubts whether Sir Fred Layton's work is really greek after all and can discover in it, but little of rocky ithaca lynelles pictures are a sort of upgards and atom paintings, and masons exquisite ittles are as national as a jingo poem. Mr. Birkett fosters landscapes smile at one much in the same way as Mr. Carker used to flash his teeth, and Mr. Clark gives his sitter a cheerful slap on the back.</td>\n",
       "      <td>Mr. Quilter, an advocate for the middle class, is the apostle of the middle classes and is glad to welcome his gospel. He tells us that at this festive season of the year, roast beef looms before us, drawing from eating and its results most readily to the mind. He has doubts whether Sir Frederick Layton's work is really greek after all, and can discover little of rocky Ithaca.\\n\\nLynelles pictures are a sort of upgards and atom paintings, and Masons, exquisite ittles are as national as a Jingo poem. Mr. Birkett fosters landscapes smile at one much in the same way as Mr. Carker used to flash his teeth, and Mr. John Collier gives his sitter a cheerful slap on the back before saying like a shampoo or turkish bath. He asks that he asks us about how luminous these criticisms are on the general principles of art and Mr. Krilter writes with equal lucidity painting as he says it is unnecessary for us to point out how delicate they are in expression.</td>\n",
       "    </tr>\n",
       "    <tr>\n",
       "      <th>1</th>\n",
       "      <td>1272/135031</td>\n",
       "      <td>because you were sleeping instead of conquering the lovely rose princess has become a fiddle without a bow while poroshaegi sits there accuing dove he has gone and gone for good answered polychrome who had managed to squeeze into the room beside the dragon and had witnessed the occurrences with much interest i have remained a prisoner only because i wish to be one and with this he stepped forward and burst the stout chains as easily as if they had been threads the little girl had been asleep but she heard the raps and opened the door the king is flooded disgrace and your friends are asking for you i begged ruggedo a long ago to send him away but he would not do so i also offered to help your brother to escape but he would not go he eats and sleeps very steadily replay the nooking i hope he doesnt work too hard since shaggy he doesnt work at all in fact there is nothing he can do in these dominions as well as our norms whose numbers are so great that it worries us to keep them all busy not exactly weve turned calico where is my brother now in quarered shaggy in the metal forest where is that the middle forest is in the great donde cavern the largest in all our dominions replied calico calago hesitated however if we look sharp we may be able to discover one of these secret ways oh no im quite sure he didnt thats funny remarked betsy thoughtfully i dont believe ann knew any magic or shed have worked it before i do not know confess to shaggy true agreed calico calico went to the big gong and pounded on it just as regular used to do but no one answered the summons having returned to the royal cavern calico first pounded the gong and then sat in the throne wearing reggados discarded ruby crown and holding in his hand the scepter which reggato had so often thrown at his head</td>\n",
       "      <td>[(poroshaegi, PERSON), (dove, PERSON), (polychrome, PERSON), (ruggedo, PERSON), (shaggy, PERSON), (calico, PERSON), (quarered, GPE), (the great donde cavern, FAC), (dominions, GPE), (calico calago, PERSON), (betsy, PERSON), (ann, PERSON), (shaggy true, PERSON), (calico calico, PERSON), (regular, PERSON), (the royal cavern, FAC), (calico, PERSON), (first, ORDINAL), (reggados, PERSON), (reggato, PERSON)]</td>\n",
       "      <td>The king is flooded with disgrace, and his friends ask for him to send him away, but he doesn't work too hard, especially since shaggy.</td>\n",
       "      <td>Poroshaegi sits in the room beside the dragon and witnessed the occurrences with interest. The little girl had been asleep, but she heard the raps and opened the door. The king is flooded with disgrace and friends are asking for him to send him away, but he would not go, and eats and sleeps steadily, despite shaggy's lack of work in these dominions and our norms, which worries us to keep them busy.</td>\n",
       "      <td>Polychrome, an advocate for the middle class, argues that the lovely rose princess has become a fiddle without a bow, and Poroshaegi sits there, accuing Dove, who has gone and gone for good, answered Polychrom, who had managed to squeeze into the room beside the dragon. The little girl had been asleep, but she heard the raps and opened the door, and the king is flooded disgrace, and her friends are asking for you. The king has remained a prisoner, only because he wish to be one, and with this, he bursts the stout chains as easily as if they had been threaded.\\n\\nAs the little girl is asleep, the girl is a little girl's friend asks for him to send him away, but he refuses to go, and he eats and sleeps steadily replay the nooking, and I hope he doesn't work too hard, because shaggy isn't working at all.</td>\n",
       "    </tr>\n",
       "    <tr>\n",
       "      <th>2</th>\n",
       "      <td>1272/141231</td>\n",
       "      <td>a man said to the universe sir i exist sweatcovered brians body trickling into the titling class that was the only girl in the world the cut on his chest is still dripping blood the ache of his overstrained eyes even the soaring arena around him with the thousands of spectators retrievalities not worth thinking about his instant panic was followed by a small sharp blow high on his chest one minute a voice said and the timbers are sounded a minute is not a very large measure of time and his body needed every fraction of it the buzzers were triggered as muscles in the complete relaxation o lees heart and lungs worked on at a strong measured rate he was in reverie sliding along the borders of consciousness the contestants in the s needed undisturbed rest therefore knights in the dormitories were as quiet as death particularly so on this last night when only two of the little cubicles were occupied the thousands of others standing with dark empty doors the other voice snapped with a harsh urgency clearly used to command im here because the matter is of utmost importance and brand is the one i must see now stand aside the s he must have drawn his gun because the intruder said quickly but that away youre being a fool out there is silence then and still wondering brienne was once more asleep seconds he asked the handler who was needing his aching muscles ive adhered mountain of a man with an apparently inexhaustible store of energy there could be a little art in this last and final round of fencing just thrust and parry and victory to the stronger every man who entered the s had his own training tricks there appeared to be an immediate association with the death trauma as if the two were inexplicably linked into one the strength that enables someone in a trance to hold his body stiff and unsupported except at two points the head and heels this is physically impossible when conscious others had died before during the s and death during the last round was in some ways easier than defeat breathing deeply briann softly spoke the auto hypnotic phrases that triggered the process when the buzzer sounded he pulled his foil from his second startled grasp and ran forward i rolled click the maze at the sudden fury of the attack then smiled he said it was the last burst of energy he knew how close they both were to exhaustion briann saw something close to panic on his opponents face when the man finally recognized his error a wave of despair rolled out from irohg brian sensed it and knew the fifth point was his then the powerful twist thats rest of the side in and under the guard</td>\n",
       "      <td>[(brians, NORP), (thousands, CARDINAL), (one minute, TIME), (a minute, TIME), (this last night, TIME), (only two, CARDINAL), (thousands, CARDINAL), (brienne, PERSON), (mountain, PERSON), (s, ORG), (two, CARDINAL), (one, CARDINAL), (two, CARDINAL), (s, ORG), (briann, PERSON), (second, ORDINAL), (briann, PERSON), (irohg, PERSON), (brian, PERSON), (fifth, ORDINAL)]</td>\n",
       "      <td>A man said to the universe sir i exist sweatcovered brians body trickling into the titling class, dripping blood the ache of his overstrained eyes.</td>\n",
       "      <td>The brians' body trickled into the titling class, the only girl in the world, with a cut on his chest still dripping blood. His instant panic followed by a small sharp blow high on the chest, a voice said and timbers are sounded. His body needed every fraction of it, and his body needed all of it. The buzzers were triggered as muscles in the complete relaxation, o Lees heart and lungs worked on at a strong measured rate, sliding along the borders of consciousness.</td>\n",
       "      <td>Sir, a sweat-covered brians body trickled into the titling class, the only girl in the world, with a cut on his chest still dripping blood. The ache of his overstrained eyes, even the arena's thousands of spectators' retrievalities was not worth thinking about. The panic followed by a sharp blow on the chest, and the timbers were sounded like a minute, and his body needed every fraction of it.\\n\\nThe buzzers were triggered as muscles in the complete relaxation, and he was in reverie sliding along the borders of consciousness. The contestants in the s needed undisturbed rest, and knights in the dormitories were as quiet as death. At this last night, when only two cubicles were occupied, with thousands of others standing with dark, empty doors.\\n\\nThe other voice snapped with urgency, clear, \"O Lee's heart and lungs worked at a strong, measured rate. At a similar rate, his body was swollen, with the thousands standing with empty doors, the other voice snapd with edgy urgency clear.</td>\n",
       "    </tr>\n",
       "    <tr>\n",
       "      <th>3</th>\n",
       "      <td>1462/170138</td>\n",
       "      <td>he had written a number of books himself among them a history of dancing a history of costume a key to shakespeare sonnets a study of the poetry of ernest dousen etc hughes written a delightful part for her and shes quite inexpressible i happen to have mcconnells box for tonight or thered be no chance of our getting places alexander exclaimed mildly myself i always knew she had it in her do you know alexander maynall looked with perplexity up into the top of the handsome and rubbed his pink cheek with his gloved finger do you know i sometimes think of taking to criticism seriously myself when they entered the stage box on the left the first act was well underway the scene being the interior of a cabin in the south of ireland as they sat down a burst of applause drew alexanders attention to the stage of course hilda is irish their bergoins have been stage people for generations and she has the irish voice its delightful to hear it in a london theatre when she began to dance by way of showing the gosoons which she had seen in the ferry rings at night the house broke into a prolonged uproar after her dance she withdrew from the dialogue and retreated to the ditch wall back of phillys burrow where she sat singing the rising of the moon and making a wreath of prim roses for her donkey mcconnell let me introduce mr bartley alexander the playwright gave main hall a curious look out of his deepset faded eyes and made a face he nodded curtly and made for the door dodging acquaintances as he went i dare say its quite true that theres never been anyone else hes another whos awfully keen about her let me introduce you sir harry town bowed and said that he had met mr alexander and his wife in tokyo i say sir harry that little girls going famously tonight isnt she the fact is shes feeling rather cd poor child a little attack of nerves possibly he bowed as the warding bell rang and main hall whispered you know lord westmare of course the stooped man with the long gray mustache talking to lady dowell in a moment peggy was on the stage again and alexander applauded vigorously with the rest in the halflight he looked about at the stalls and boxes and smiled a little consciously recalling with the amusement sir harrys judicial frown he leaned forward and beamed felicitations as warmly as main hall himself when at the end of the play she came again and again before the curtain panting a little and flushed her eyes dancing and her eager nervous little mouth tremulous with excitement all the same he lifted his glass heres to you little hilda im glad shes held her own since it was youth and poverty and proximity and everything was young and kindly</td>\n",
       "      <td>[(shakespeare, PERSON), (ernest dousen, PERSON), (hughes, PERSON), (mcconnells, PERSON), (tonight, TIME), (alexander, PERSON), (alexander maynall, PERSON), (first, ORDINAL), (ireland, GPE), (alexanders, NORP), (hilda, PERSON), (irish, NORP), (bergoins, NORP), (irish, NORP), (london, GPE), (phillys burrow, LOC), (mcconnell, PERSON), (bartley alexander, PERSON), (main hall, ORG), (harry town, PERSON), (alexander, PERSON), (tokyo, GPE), (harry, PERSON), (tonight, TIME), (westmare, PERSON), (dowell, PERSON), (peggy, PERSON), (alexander, PERSON), (harrys judicial, PERSON), (main hall, FAC), (hilda, PERSON)]</td>\n",
       "      <td>Alexander writes books, history of dancing, costume, shakespeare Sonnets, and a study of the poetry of ernest dousen.</td>\n",
       "      <td>The scene was underway in a cabin in the south of ireland as they sat down to a burst of applause, drawing alexander's attention to the stage of Hilda, who has the irish voice. Her bergoins have been stage people for generations, and she has the Irish voice, which is delightful to hear in london theatre. The scene is well underway, with the stage box on the left, where she dances with the goss.</td>\n",
       "      <td>Alexander, an advocate for the middle class, has written several books, including a history of dancing, costume, and a study of the poetry of Ernest Dousen. He has also written a delightful part for his daughter, and she's quite inexpressible. Alexander's words have prompted him to exclaim, \"I always knew she had it in her do you know, I sometimes think of taking criticism seriously myself when they entered the stage box on the left.\" The scene is the interior of a cabin in the south of Ireland, with Ellia's Irish voice, which is a delight to hear in a London theatre.\\n\\nAs they sat down a burst of applause. The first act was well underway, with the scene unfolding, with Helen's attention to the stage of the theatre, where she began to dance by showing the gos. She has the Irish voice is delightful to hear it in the London theatre, which she has been a great example.</td>\n",
       "    </tr>\n",
       "    <tr>\n",
       "      <th>4</th>\n",
       "      <td>1462/170142</td>\n",
       "      <td>the last two days of the voyage bartley found almost intolerable emerging at houston at half past three oclock in the afternoon alexander had his luggage sent to the savoy and drove it once to bedford square she blushed and smiled and fumbled his card in her confusion before she ran upstairs the room was empty when he entered a coal fire was crackling in the grate and the lamps were lit for it was already beginning to grow dark outside she calls his name on the threshold but in her swift flight across the room she felt a change in him and caught herself up so deftly that he could not tell just when she did it she merely brushed his cheek with her lips and put a hand lightly and joyously on either shoulder i never dreamed it would be you bartley when did you come bartley and how did it happen you havent spoken a word she looked at his heavy shoulders and big determined head frustre forward like a catapult in leash ill do anything you wish me to bartley she said chumylisly he pulled up a window as if the air were heavy hilda watched him from her corner trembling and scarcely breathing dark shadows going about her eyes it hasnt always made you miserable has it always but its worse now its unbearable it tortures me every minute i am not a man who can live two lives he went on feverishly each life spoils the other i get nothing but misery out of either there is this deception between me and everything at that word deception spoken with such selfcontempt the color flashed back into hildas face as suddenly as if she had been struck by a whiplash she bit her lip and looked down at her hands which were clasped tightly in front of her could you sit down and talk about it quietly bartley as if i were a friend and not someone who had to be defied he dropped back heavily into his chair by the fire i have thought about it until i am worn out after the very first held his face quivered but she whispered yes i think it must have been she pressed his hand gently in gratitude werent you happy then at all something of their troubling sweetness came back to alexander too presently its door back to his coat sleeve yes hilda i know that he said simply i understand partly i was wrong she listened intently but she heard nothing but the creaking of his chair you want me to say it she whispered bartley leaned his head in his hands and spoke through his teeth its got to be a clean brake holder oh bartley what am i to do you ask me to stay away from you because you want me i will ask the least imaginable but i must have something hilda sat on the arm of it and put her hands lightly on his shoulders you see loving someone as i love you makes the whole world different and then you came back not caring very much but it made no difference she slid to the floor beside him as if she were too tired to sit up any longer dont cry dont cry he whispered</td>\n",
       "      <td>[(the last two days, DATE), (bartley, PERSON), (houston, FAC), (half past three oclock in the afternoon, TIME), (alexander, PERSON), (savoy, FAC), (bedford square, FAC), (bartley, PERSON), (bartley, PERSON), (bartley, PERSON), (hilda, PERSON), (every minute, TIME), (two, CARDINAL), (hildas, PERSON), (bartley, PERSON), (first, ORDINAL), (alexander, PERSON), (hilda, PERSON), (bartley, PERSON), (bartley, PERSON), (hilda, PERSON)]</td>\n",
       "      <td>Alexander's luggage was sent to the savoy and drove it to bedford square when he entered a coal fire and noticed a change in him.</td>\n",
       "      <td>The last two days of the voyage Bartley found almost intolerable emerging at houston, half past three oclock in the afternoon, and drove it to bedford square. She blushed, smiled and fumbled his card in her confusion, and ran upstairs. The room was empty when he entered a coal fire, crackling in the grate, and the lamps were lit. She called him on the threshold, but in her swift flight, she felt a change in him and caught herself up so deftly, she brushed his cheek with her lips and put a hand lightly and joyously.</td>\n",
       "      <td>Alexander Bartley arrived at Houston at half past three oclock in the afternoon, finding him almost intolerable emerging at Houston. At half-time, Alexander had his luggage sent to the Savoy and drove it once to Bedford Square, where he found him in confusion. She blushed and smiled, and fumbled his card in her confusion before running upstairs.\\n\\nThe room was empty when Alexander entered, calling his name on the threshold, but in her swift flight across the room, she felt a change in him and caught herself up so deftly that he couldn't tell when she did it. She brushed his cheek with her lips and put a hand lightly and joyously on either shoulder. She said, \"I never dreamed it would be you, bartley, when did you come, and how did it happen?\\n\\nShe looked at his heavy shoulders and big, determined head, frustre forward like a catapult in Leash.</td>\n",
       "    </tr>\n",
       "  </tbody>\n",
       "</table>\n",
       "</div>"
      ],
      "text/plain": [
       "   folder_path  \\\n",
       "0  1272/128104   \n",
       "1  1272/135031   \n",
       "2  1272/141231   \n",
       "3  1462/170138   \n",
       "4  1462/170142   \n",
       "\n",
       "                                                                                                                                                                                                                                                                                                                                                                                                                                                                                                                                                                                                                                                                                                                                                                                                                                                                                                                                                                                                                                                                                                                                                                                                                                                                                                                                                                                                                                                                                                                                                                                                                                                                                                                                                                                                                                                                                                                                                                                                                                                                                                                                                                                                                                                                                                                                                                                                                                                                                                                                                                                                                                                                                                                                                                                                                                                                                                                                                        combined_cleaned_whisper_text  \\\n",
       "0                                                                                                                                                                                                                                                                                                                                                                                                                                                                                                                                                                                                                                                                                                                                                                                                                                                                                                                                                                                                                                                                                 mr quilter is the apostle of the middle classes and we are glad to welcome his gospel nor is mr quilters manner less interesting than his matter he tells us that at this festive season of the year with christmas and roast beef looming before us similarly drawn from eating and its results occur most readily to the mind he has graved doubts whether sir frederick laytons work is really greek after all and can discover in it but little of rocky ithaca lynelles pictures are a sort of upgards and atom paintings and masons exquisite ittles are as national as a jingo poem mr birkett fosters landscapes smile at one much in the same way that mr carker used to flash his teeth and mr john collier gives his sitter a cheerful slap on the back before he says like a shampoo or a turkish bath next man it is obviously unnecessary for us to point out how luminous these criticisms are how delicate in expression on the general principles of art and mr krilter writes with equal lucidity painting he tells us is of a different quality to mathematics and finish in art is adding more factor as for etchings there are two kinds british and foreign he laments most bitterly the divorce that has been made between decorative art and what we usually call pictures mixed a customary appeal to the last judgment and reminds us that in the great days of art michelangelo was the furnishing upholsterer near the fire and the ornaments fred brought home from india on the mental board in fact he is quite severe on mr ruskin for not recognizing that a picture should denote the frailty of man and remarks with pleasing courtesy and felicitous grace that many phases were feeling only unfortunately his own work never does get good mr quilter has missed his chance for he has failed even to make himself the tupper of painting by harry quilter ma   \n",
       "1                                                                                                                                                                                                                                                                                                                                                                                                                                                                                                                                                                                                                                                                                                                                                                                                                                                                                                                                                                                                                                                                                                              because you were sleeping instead of conquering the lovely rose princess has become a fiddle without a bow while poroshaegi sits there accuing dove he has gone and gone for good answered polychrome who had managed to squeeze into the room beside the dragon and had witnessed the occurrences with much interest i have remained a prisoner only because i wish to be one and with this he stepped forward and burst the stout chains as easily as if they had been threads the little girl had been asleep but she heard the raps and opened the door the king is flooded disgrace and your friends are asking for you i begged ruggedo a long ago to send him away but he would not do so i also offered to help your brother to escape but he would not go he eats and sleeps very steadily replay the nooking i hope he doesnt work too hard since shaggy he doesnt work at all in fact there is nothing he can do in these dominions as well as our norms whose numbers are so great that it worries us to keep them all busy not exactly weve turned calico where is my brother now in quarered shaggy in the metal forest where is that the middle forest is in the great donde cavern the largest in all our dominions replied calico calago hesitated however if we look sharp we may be able to discover one of these secret ways oh no im quite sure he didnt thats funny remarked betsy thoughtfully i dont believe ann knew any magic or shed have worked it before i do not know confess to shaggy true agreed calico calico went to the big gong and pounded on it just as regular used to do but no one answered the summons having returned to the royal cavern calico first pounded the gong and then sat in the throne wearing reggados discarded ruby crown and holding in his hand the scepter which reggato had so often thrown at his head   \n",
       "2                                                                                                                                                                                                                                                                     a man said to the universe sir i exist sweatcovered brians body trickling into the titling class that was the only girl in the world the cut on his chest is still dripping blood the ache of his overstrained eyes even the soaring arena around him with the thousands of spectators retrievalities not worth thinking about his instant panic was followed by a small sharp blow high on his chest one minute a voice said and the timbers are sounded a minute is not a very large measure of time and his body needed every fraction of it the buzzers were triggered as muscles in the complete relaxation o lees heart and lungs worked on at a strong measured rate he was in reverie sliding along the borders of consciousness the contestants in the s needed undisturbed rest therefore knights in the dormitories were as quiet as death particularly so on this last night when only two of the little cubicles were occupied the thousands of others standing with dark empty doors the other voice snapped with a harsh urgency clearly used to command im here because the matter is of utmost importance and brand is the one i must see now stand aside the s he must have drawn his gun because the intruder said quickly but that away youre being a fool out there is silence then and still wondering brienne was once more asleep seconds he asked the handler who was needing his aching muscles ive adhered mountain of a man with an apparently inexhaustible store of energy there could be a little art in this last and final round of fencing just thrust and parry and victory to the stronger every man who entered the s had his own training tricks there appeared to be an immediate association with the death trauma as if the two were inexplicably linked into one the strength that enables someone in a trance to hold his body stiff and unsupported except at two points the head and heels this is physically impossible when conscious others had died before during the s and death during the last round was in some ways easier than defeat breathing deeply briann softly spoke the auto hypnotic phrases that triggered the process when the buzzer sounded he pulled his foil from his second startled grasp and ran forward i rolled click the maze at the sudden fury of the attack then smiled he said it was the last burst of energy he knew how close they both were to exhaustion briann saw something close to panic on his opponents face when the man finally recognized his error a wave of despair rolled out from irohg brian sensed it and knew the fifth point was his then the powerful twist thats rest of the side in and under the guard   \n",
       "3                                                                                                                                                                                                    he had written a number of books himself among them a history of dancing a history of costume a key to shakespeare sonnets a study of the poetry of ernest dousen etc hughes written a delightful part for her and shes quite inexpressible i happen to have mcconnells box for tonight or thered be no chance of our getting places alexander exclaimed mildly myself i always knew she had it in her do you know alexander maynall looked with perplexity up into the top of the handsome and rubbed his pink cheek with his gloved finger do you know i sometimes think of taking to criticism seriously myself when they entered the stage box on the left the first act was well underway the scene being the interior of a cabin in the south of ireland as they sat down a burst of applause drew alexanders attention to the stage of course hilda is irish their bergoins have been stage people for generations and she has the irish voice its delightful to hear it in a london theatre when she began to dance by way of showing the gosoons which she had seen in the ferry rings at night the house broke into a prolonged uproar after her dance she withdrew from the dialogue and retreated to the ditch wall back of phillys burrow where she sat singing the rising of the moon and making a wreath of prim roses for her donkey mcconnell let me introduce mr bartley alexander the playwright gave main hall a curious look out of his deepset faded eyes and made a face he nodded curtly and made for the door dodging acquaintances as he went i dare say its quite true that theres never been anyone else hes another whos awfully keen about her let me introduce you sir harry town bowed and said that he had met mr alexander and his wife in tokyo i say sir harry that little girls going famously tonight isnt she the fact is shes feeling rather cd poor child a little attack of nerves possibly he bowed as the warding bell rang and main hall whispered you know lord westmare of course the stooped man with the long gray mustache talking to lady dowell in a moment peggy was on the stage again and alexander applauded vigorously with the rest in the halflight he looked about at the stalls and boxes and smiled a little consciously recalling with the amusement sir harrys judicial frown he leaned forward and beamed felicitations as warmly as main hall himself when at the end of the play she came again and again before the curtain panting a little and flushed her eyes dancing and her eager nervous little mouth tremulous with excitement all the same he lifted his glass heres to you little hilda im glad shes held her own since it was youth and poverty and proximity and everything was young and kindly   \n",
       "4  the last two days of the voyage bartley found almost intolerable emerging at houston at half past three oclock in the afternoon alexander had his luggage sent to the savoy and drove it once to bedford square she blushed and smiled and fumbled his card in her confusion before she ran upstairs the room was empty when he entered a coal fire was crackling in the grate and the lamps were lit for it was already beginning to grow dark outside she calls his name on the threshold but in her swift flight across the room she felt a change in him and caught herself up so deftly that he could not tell just when she did it she merely brushed his cheek with her lips and put a hand lightly and joyously on either shoulder i never dreamed it would be you bartley when did you come bartley and how did it happen you havent spoken a word she looked at his heavy shoulders and big determined head frustre forward like a catapult in leash ill do anything you wish me to bartley she said chumylisly he pulled up a window as if the air were heavy hilda watched him from her corner trembling and scarcely breathing dark shadows going about her eyes it hasnt always made you miserable has it always but its worse now its unbearable it tortures me every minute i am not a man who can live two lives he went on feverishly each life spoils the other i get nothing but misery out of either there is this deception between me and everything at that word deception spoken with such selfcontempt the color flashed back into hildas face as suddenly as if she had been struck by a whiplash she bit her lip and looked down at her hands which were clasped tightly in front of her could you sit down and talk about it quietly bartley as if i were a friend and not someone who had to be defied he dropped back heavily into his chair by the fire i have thought about it until i am worn out after the very first held his face quivered but she whispered yes i think it must have been she pressed his hand gently in gratitude werent you happy then at all something of their troubling sweetness came back to alexander too presently its door back to his coat sleeve yes hilda i know that he said simply i understand partly i was wrong she listened intently but she heard nothing but the creaking of his chair you want me to say it she whispered bartley leaned his head in his hands and spoke through his teeth its got to be a clean brake holder oh bartley what am i to do you ask me to stay away from you because you want me i will ask the least imaginable but i must have something hilda sat on the arm of it and put her hands lightly on his shoulders you see loving someone as i love you makes the whole world different and then you came back not caring very much but it made no difference she slid to the floor beside him as if she were too tired to sit up any longer dont cry dont cry he whispered   \n",
       "\n",
       "                                                                                                                                                                                                                                                                                                                                                                                                                                                                                                                                                                                                                      named_entities  \\\n",
       "0                                                                                                                    [(quilter, PERSON), (quilters, PERSON), (this festive season of the year, DATE), (christmas, DATE), (frederick laytons, PERSON), (greek, NORP), (upgards, PERSON), (atom, PERSON), (masons, PERSON), (birkett, PERSON), (carker, PERSON), (john collier, PERSON), (turkish, NORP), (krilter, PERSON), (two, CARDINAL), (british, NORP), (the great days, DATE), (michelangelo, PERSON), (fred, PERSON), (india, GPE), (the mental board, ORG), (ruskin, PERSON), (quilter, PERSON), (harry quilter ma, PERSON)]   \n",
       "1                                                                                                                                                                                                              [(poroshaegi, PERSON), (dove, PERSON), (polychrome, PERSON), (ruggedo, PERSON), (shaggy, PERSON), (calico, PERSON), (quarered, GPE), (the great donde cavern, FAC), (dominions, GPE), (calico calago, PERSON), (betsy, PERSON), (ann, PERSON), (shaggy true, PERSON), (calico calico, PERSON), (regular, PERSON), (the royal cavern, FAC), (calico, PERSON), (first, ORDINAL), (reggados, PERSON), (reggato, PERSON)]   \n",
       "2                                                                                                                                                                                                                                                       [(brians, NORP), (thousands, CARDINAL), (one minute, TIME), (a minute, TIME), (this last night, TIME), (only two, CARDINAL), (thousands, CARDINAL), (brienne, PERSON), (mountain, PERSON), (s, ORG), (two, CARDINAL), (one, CARDINAL), (two, CARDINAL), (s, ORG), (briann, PERSON), (second, ORDINAL), (briann, PERSON), (irohg, PERSON), (brian, PERSON), (fifth, ORDINAL)]   \n",
       "3  [(shakespeare, PERSON), (ernest dousen, PERSON), (hughes, PERSON), (mcconnells, PERSON), (tonight, TIME), (alexander, PERSON), (alexander maynall, PERSON), (first, ORDINAL), (ireland, GPE), (alexanders, NORP), (hilda, PERSON), (irish, NORP), (bergoins, NORP), (irish, NORP), (london, GPE), (phillys burrow, LOC), (mcconnell, PERSON), (bartley alexander, PERSON), (main hall, ORG), (harry town, PERSON), (alexander, PERSON), (tokyo, GPE), (harry, PERSON), (tonight, TIME), (westmare, PERSON), (dowell, PERSON), (peggy, PERSON), (alexander, PERSON), (harrys judicial, PERSON), (main hall, FAC), (hilda, PERSON)]   \n",
       "4                                                                                                                                                                                     [(the last two days, DATE), (bartley, PERSON), (houston, FAC), (half past three oclock in the afternoon, TIME), (alexander, PERSON), (savoy, FAC), (bedford square, FAC), (bartley, PERSON), (bartley, PERSON), (bartley, PERSON), (hilda, PERSON), (every minute, TIME), (two, CARDINAL), (hildas, PERSON), (bartley, PERSON), (first, ORDINAL), (alexander, PERSON), (hilda, PERSON), (bartley, PERSON), (bartley, PERSON), (hilda, PERSON)]   \n",
       "\n",
       "                                                                                                                                                                  summary_tiny  \\\n",
       "0  Mr. Quilter is the apostle of the middle classes, and he tells us that at this festive season, with Christmas and roast beef looming before us similarly drawn from eating.   \n",
       "1                                      The king is flooded with disgrace, and his friends ask for him to send him away, but he doesn't work too hard, especially since shaggy.   \n",
       "2                          A man said to the universe sir i exist sweatcovered brians body trickling into the titling class, dripping blood the ache of his overstrained eyes.   \n",
       "3                                                        Alexander writes books, history of dancing, costume, shakespeare Sonnets, and a study of the poetry of ernest dousen.   \n",
       "4                                            Alexander's luggage was sent to the savoy and drove it to bedford square when he entered a coal fire and noticed a change in him.   \n",
       "\n",
       "                                                                                                                                                                                                                                                                                                                                                                                                                                                                                                                              summary_short  \\\n",
       "0                                        Mr. Quilter is the apostle of the middle classes and we welcome his gospel. He has doubts whether Sir Fred Layton's work is really greek after all and can discover in it, but little of rocky ithaca lynelles pictures are a sort of upgards and atom paintings, and masons exquisite ittles are as national as a jingo poem. Mr. Birkett fosters landscapes smile at one much in the same way as Mr. Carker used to flash his teeth, and Mr. Clark gives his sitter a cheerful slap on the back.   \n",
       "1                                                                                                                         Poroshaegi sits in the room beside the dragon and witnessed the occurrences with interest. The little girl had been asleep, but she heard the raps and opened the door. The king is flooded with disgrace and friends are asking for him to send him away, but he would not go, and eats and sleeps steadily, despite shaggy's lack of work in these dominions and our norms, which worries us to keep them busy.   \n",
       "2                                                      The brians' body trickled into the titling class, the only girl in the world, with a cut on his chest still dripping blood. His instant panic followed by a small sharp blow high on the chest, a voice said and timbers are sounded. His body needed every fraction of it, and his body needed all of it. The buzzers were triggered as muscles in the complete relaxation, o Lees heart and lungs worked on at a strong measured rate, sliding along the borders of consciousness.   \n",
       "3                                                                                                                             The scene was underway in a cabin in the south of ireland as they sat down to a burst of applause, drawing alexander's attention to the stage of Hilda, who has the irish voice. Her bergoins have been stage people for generations, and she has the Irish voice, which is delightful to hear in london theatre. The scene is well underway, with the stage box on the left, where she dances with the goss.   \n",
       "4  The last two days of the voyage Bartley found almost intolerable emerging at houston, half past three oclock in the afternoon, and drove it to bedford square. She blushed, smiled and fumbled his card in her confusion, and ran upstairs. The room was empty when he entered a coal fire, crackling in the grate, and the lamps were lit. She called him on the threshold, but in her swift flight, she felt a change in him and caught herself up so deftly, she brushed his cheek with her lips and put a hand lightly and joyously.   \n",
       "\n",
       "                                                                                                                                                                                                                                                                                                                                                                                                                                                                                                                                                                                                                                                                                                                                                                                                                                                                                                                                                                                                                         summary_long  \n",
       "0                                         Mr. Quilter, an advocate for the middle class, is the apostle of the middle classes and is glad to welcome his gospel. He tells us that at this festive season of the year, roast beef looms before us, drawing from eating and its results most readily to the mind. He has doubts whether Sir Frederick Layton's work is really greek after all, and can discover little of rocky Ithaca.\\n\\nLynelles pictures are a sort of upgards and atom paintings, and Masons, exquisite ittles are as national as a Jingo poem. Mr. Birkett fosters landscapes smile at one much in the same way as Mr. Carker used to flash his teeth, and Mr. John Collier gives his sitter a cheerful slap on the back before saying like a shampoo or turkish bath. He asks that he asks us about how luminous these criticisms are on the general principles of art and Mr. Krilter writes with equal lucidity painting as he says it is unnecessary for us to point out how delicate they are in expression.  \n",
       "1                                                                                                                                                                                        Polychrome, an advocate for the middle class, argues that the lovely rose princess has become a fiddle without a bow, and Poroshaegi sits there, accuing Dove, who has gone and gone for good, answered Polychrom, who had managed to squeeze into the room beside the dragon. The little girl had been asleep, but she heard the raps and opened the door, and the king is flooded disgrace, and her friends are asking for you. The king has remained a prisoner, only because he wish to be one, and with this, he bursts the stout chains as easily as if they had been threaded.\\n\\nAs the little girl is asleep, the girl is a little girl's friend asks for him to send him away, but he refuses to go, and he eats and sleeps steadily replay the nooking, and I hope he doesn't work too hard, because shaggy isn't working at all.  \n",
       "2  Sir, a sweat-covered brians body trickled into the titling class, the only girl in the world, with a cut on his chest still dripping blood. The ache of his overstrained eyes, even the arena's thousands of spectators' retrievalities was not worth thinking about. The panic followed by a sharp blow on the chest, and the timbers were sounded like a minute, and his body needed every fraction of it.\\n\\nThe buzzers were triggered as muscles in the complete relaxation, and he was in reverie sliding along the borders of consciousness. The contestants in the s needed undisturbed rest, and knights in the dormitories were as quiet as death. At this last night, when only two cubicles were occupied, with thousands of others standing with dark, empty doors.\\n\\nThe other voice snapped with urgency, clear, \"O Lee's heart and lungs worked at a strong, measured rate. At a similar rate, his body was swollen, with the thousands standing with empty doors, the other voice snapd with edgy urgency clear.  \n",
       "3                                                                                                                     Alexander, an advocate for the middle class, has written several books, including a history of dancing, costume, and a study of the poetry of Ernest Dousen. He has also written a delightful part for his daughter, and she's quite inexpressible. Alexander's words have prompted him to exclaim, \"I always knew she had it in her do you know, I sometimes think of taking criticism seriously myself when they entered the stage box on the left.\" The scene is the interior of a cabin in the south of Ireland, with Ellia's Irish voice, which is a delight to hear in a London theatre.\\n\\nAs they sat down a burst of applause. The first act was well underway, with the scene unfolding, with Helen's attention to the stage of the theatre, where she began to dance by showing the gos. She has the Irish voice is delightful to hear it in the London theatre, which she has been a great example.  \n",
       "4                                                                                                                                           Alexander Bartley arrived at Houston at half past three oclock in the afternoon, finding him almost intolerable emerging at Houston. At half-time, Alexander had his luggage sent to the Savoy and drove it once to Bedford Square, where he found him in confusion. She blushed and smiled, and fumbled his card in her confusion before running upstairs.\\n\\nThe room was empty when Alexander entered, calling his name on the threshold, but in her swift flight across the room, she felt a change in him and caught herself up so deftly that he couldn't tell when she did it. She brushed his cheek with her lips and put a hand lightly and joyously on either shoulder. She said, \"I never dreamed it would be you, bartley, when did you come, and how did it happen?\\n\\nShe looked at his heavy shoulders and big, determined head, frustre forward like a catapult in Leash.  "
      ]
     },
     "execution_count": 89,
     "metadata": {},
     "output_type": "execute_result"
    }
   ],
   "source": [
    "text_with_summary.head()"
   ]
  },
  {
   "cell_type": "code",
   "execution_count": null,
   "id": "79ac5b8c",
   "metadata": {},
   "outputs": [],
   "source": [
    "text_with_summary.to_csv(\"data/fine_tune_t5_summary.csv\", index = False)"
   ]
  },
  {
   "cell_type": "markdown",
   "id": "e1b8baee",
   "metadata": {},
   "source": [
    "# 3. LLM-Based Agentic Summarizer with In-Context Learning"
   ]
  },
  {
   "cell_type": "code",
   "execution_count": 3,
   "id": "7a01180e-56c6-43df-9d67-2cdaf225f6a1",
   "metadata": {},
   "outputs": [],
   "source": [
    "# get hugging face token and log in\n",
    "load_dotenv()\n",
    "hf_token = os.getenv(\"HUGGINGFACE_TOKEN\")\n",
    "login(hf_token)"
   ]
  },
  {
   "cell_type": "code",
   "execution_count": 4,
   "id": "1052d128",
   "metadata": {},
   "outputs": [],
   "source": [
    "# read combined text csv\n",
    "combined_text = pd.read_csv(\"data/combined_text.csv\")"
   ]
  },
  {
   "cell_type": "code",
   "execution_count": 10,
   "id": "1b3661d3-cb17-4e20-86e5-70b231e166b8",
   "metadata": {},
   "outputs": [
    {
     "name": "stderr",
     "output_type": "stream",
     "text": [
      "Loading checkpoint shards: 100%|██████████| 4/4 [00:08<00:00,  2.07s/it]\n"
     ]
    }
   ],
   "source": [
    "# load llama 3\n",
    "model_name = \"meta-llama/Meta-Llama-3-8B-Instruct\"\n",
    "tokenizer = AutoTokenizer.from_pretrained(model_name)\n",
    "model = AutoModelForCausalLM.from_pretrained(model_name, \n",
    "                                             torch_dtype=torch.float16, \n",
    "                                             device_map=\"auto\")"
   ]
  },
  {
   "cell_type": "code",
   "execution_count": 36,
   "id": "944ddc8a-9423-4d57-9570-cb8e3d71e680",
   "metadata": {},
   "outputs": [],
   "source": [
    "def llm(prompt, max_new_tokens=512, temperature=0.4):\n",
    "    inputs = tokenizer(prompt, return_tensors=\"pt\").to(model.device)\n",
    "    with torch.no_grad():\n",
    "        outputs = model.generate(\n",
    "            **inputs,\n",
    "            max_new_tokens=max_new_tokens,\n",
    "            temperature=temperature,\n",
    "            do_sample=True,\n",
    "            pad_token_id=tokenizer.eos_token_id\n",
    "        )\n",
    "    decoded = tokenizer.decode(outputs[0], skip_special_tokens=True)\n",
    "    if prompt in decoded:\n",
    "        return decoded[len(prompt):].strip()\n",
    "    return decoded.strip()"
   ]
  },
  {
   "cell_type": "code",
   "execution_count": 37,
   "id": "a28fa190-e543-478c-a0f1-ea01cf0bb7d9",
   "metadata": {},
   "outputs": [],
   "source": [
    "# summarizer prompt\n",
    "def get_long_summary_prompt(text):\n",
    "    return f\"\"\"<|system|>\n",
    "You are a helpful AI assistant specialized in text summarization. \n",
    "<|user|>\n",
    "I need you to summarize the following text into three to five paragraphs (150–400 words). Return only the summary. Do not include any introductory or concluding sentences, explanations, or conversational statements. Your output must be the summary only.\n",
    "\n",
    "Example text: long ago they lived in merchant who had three daughters every year at a certain day of a certain month he went away to a distant city to collect money when an account how do you know astor father i am older and wiser than you are and i know that there are many evils which might come upon you when it was evening he led his band into a nearby street and in his disguise approached the merchants house he knocked at the door have pity upon a poor unfortunate one he called out let me enter i pray you to pass the night under your roof its surely a terrible storm outside so the merchants eldest daughter as the wind rattled the tiles of the roof and the rain beat in torrents against the doors and windows he is old as well as poor she said if we decide to show mercy to this poor beggar it is not for you to oppose it but we should not forget our promise to our father cried the youngest daughter however in spite of all she could say the elder sisters opened the door and admitted the bigger it is a fearful night to send away a bigger said the eldest sister while they were eating while they were talking the beggar had taken the apples which the girls were to eat for dessert and had sprinkled a sleeping powder over them the two eldest ate their apples but the youngest could not eat that night she threw the apple away she did not stir and he knew that the sleeping powder had thoroughly done its work then she hurt him go down the stairway and unbolt the heavy doors which led into the store it was the youngest one who deceived me cried the robert chieftain perhaps we can outlet her yet cry another the merchants daughter at first did not answer but as he kept on calling to her she finally asked him what it was that he wanted i promise you i will do you no harm you shall not come into my fathers house pass the charm out to me then said the robber when she returned his hand was sticking through the hole in the door the cries and curses of the robbers filled the air they tried and vane to break down the great doors all my worries about you were foolish\n",
    "\n",
    "<|assistant|>\n",
    "A merchant with three daughters traveled each year to a distant city to collect money. One evening during a terrible storm, while the merchant was away, a beggar came to their house asking for shelter. The eldest daughters, moved by his plea, insisted on letting him in despite their youngest sister’s warning that they should honor their father’s instructions.\n",
    "\n",
    "During dinner, the beggar secretly sprinkled sleeping powder on the apples meant for dessert. The two elder sisters ate the apples and fell asleep, but the youngest, suspicious, did not eat hers. Awake and alert, she heard the beggar—revealed to be a robber—go downstairs to unbolt the doors leading to the merchant’s store. Realizing her plan was foiled, the robber chief became furious, and his gang tried in vain to break into the house.\n",
    "\n",
    "Despite their efforts and curses, the youngest daughter’s caution and bravery protected the household from harm. Her wisdom proved greater than her sisters’ kindness, showing that mercy should be tempered with vigilance, especially when danger is near.\n",
    "\n",
    "<|user|>\n",
    "Now please summarize this text into two to four paragraphs:\n",
    "\n",
    "{text}\n",
    "\n",
    "<|assistant|>\n",
    "\"\"\"\n",
    "\n",
    "def get_short_summary_prompt(text):\n",
    "    return f\"\"\"<|system|>\n",
    "You are a helpful AI assistant specialized in text summarization.\n",
    "<|user|>\n",
    "I need you to summarize the following text into a single concise paragraph (100–150 words). Return only the summary. Do not include any introductory or concluding sentences, explanations, or conversational statements. Your output must be the summary only.\n",
    "\n",
    "Example text: long ago they lived in merchant who had three daughters every year at a certain day of a certain month he went away to a distant city to collect money when an account how do you know astor father i am older and wiser than you are and i know that there are many evils which might come upon you when it was evening he led his band into a nearby street and in his disguise approached the merchants house he knocked at the door have pity upon a poor unfortunate one he called out let me enter i pray you to pass the night under your roof its surely a terrible storm outside so the merchants eldest daughter as the wind rattled the tiles of the roof and the rain beat in torrents against the doors and windows he is old as well as poor she said if we decide to show mercy to this poor beggar it is not for you to oppose it but we should not forget our promise to our father cried the youngest daughter however in spite of all she could say the elder sisters opened the door and admitted the bigger it is a fearful night to send away a bigger said the eldest sister while they were eating while they were talking the beggar had taken the apples which the girls were to eat for dessert and had sprinkled a sleeping powder over them the two eldest ate their apples but the youngest could not eat that night she threw the apple away she did not stir and he knew that the sleeping powder had thoroughly done its work then she hurt him go down the stairway and unbolt the heavy doors which led into the store it was the youngest one who deceived me cried the robert chieftain perhaps we can outlet her yet cry another the merchants daughter at first did not answer but as he kept on calling to her she finally asked him what it was that he wanted i promise you i will do you no harm you shall not come into my fathers house pass the charm out to me then said the robber when she returned his hand was sticking through the hole in the door the cries and curses of the robbers filled the air they tried and vane to break down the great doors all my worries about you were foolish\n",
    "\n",
    "<|assistant|>\n",
    "While their merchant father was away, three sisters sheltered a beggar during a fierce storm, despite the youngest’s warning to keep their promise to their father. The beggar, actually a robber in disguise, drugged the elder sisters with sleeping powder, but the cautious youngest sister avoided the trap. Staying awake, she overheard the robber’s plan to break into the house and foiled his attempt, saving her family through her vigilance and quick thinking.\n",
    "\n",
    "<|user|>\n",
    "Now please summarize this text into a single concise paragraph:\n",
    "\n",
    "{text}\n",
    "\n",
    "<|assistant|>\n",
    "\"\"\"\n",
    "\n",
    "def get_tiny_summary_prompt(text):\n",
    "    return f\"\"\"<|system|>\n",
    "You are a helpful AI assistant specialized in text summarization.\n",
    "<|user|>\n",
    "I need you to summarize the following text into a single sentence (15–40 words). Return only the summary. Do not include any introductory or concluding sentences, explanations, or conversational statements. Your output must be the summary only.\n",
    "\n",
    "Example text: long ago they lived in merchant who had three daughters every year at a certain day of a certain month he went away to a distant city to collect money when an account how do you know astor father i am older and wiser than you are and i know that there are many evils which might come upon you when it was evening he led his band into a nearby street and in his disguise approached the merchants house he knocked at the door have pity upon a poor unfortunate one he called out let me enter i pray you to pass the night under your roof its surely a terrible storm outside so the merchants eldest daughter as the wind rattled the tiles of the roof and the rain beat in torrents against the doors and windows he is old as well as poor she said if we decide to show mercy to this poor beggar it is not for you to oppose it but we should not forget our promise to our father cried the youngest daughter however in spite of all she could say the elder sisters opened the door and admitted the bigger it is a fearful night to send away a bigger said the eldest sister while they were eating while they were talking the beggar had taken the apples which the girls were to eat for dessert and had sprinkled a sleeping powder over them the two eldest ate their apples but the youngest could not eat that night she threw the apple away she did not stir and he knew that the sleeping powder had thoroughly done its work then she hurt him go down the stairway and unbolt the heavy doors which led into the store it was the youngest one who deceived me cried the robert chieftain perhaps we can outlet her yet cry another the merchants daughter at first did not answer but as he kept on calling to her she finally asked him what it was that he wanted i promise you i will do you no harm you shall not come into my fathers house pass the charm out to me then said the robber when she returned his hand was sticking through the hole in the door the cries and curses of the robbers filled the air they tried and vane to break down the great doors all my worries about you were foolish\n",
    "\n",
    "<|assistant|>\n",
    "When a beggar-turned-robber tricks two sisters into eating sleeping powder, the youngest sister’s caution thwarts his plan and protects her family.\n",
    "\n",
    "<|user|>\n",
    "Now please summarize this text into a single sentence:\n",
    "\n",
    "{text}\n",
    "\n",
    "<|assistant|>\n",
    "\"\"\""
   ]
  },
  {
   "cell_type": "code",
   "execution_count": 38,
   "id": "78a86018-f71a-4c1d-b4fb-35e4b06c077a",
   "metadata": {},
   "outputs": [],
   "source": [
    "# evaluator prompt\n",
    "def build_evaluator_prompt(original_text, summary, summary_type):\n",
    "    return f\"\"\"<|system|>\n",
    "You are a critical reviewer of summaries. You read an original text, a summary, and decide if the summary is good or not, following the provided examples. Output your decision and feedback using the format shown in the examples.\n",
    "\n",
    "<|user|>\n",
    "Example 1:\n",
    "Original text:\n",
    "The cat sat on the mat. The dog barked at the mailman.\n",
    "\n",
    "Summary:\n",
    "A cat sat on a mat while a dog barked at a mailman.\n",
    "\n",
    "Evaluation:\n",
    "- Result: Pass\n",
    "- Feedback: The summary covers all key details accurately and concisely.\n",
    "\n",
    "Example 2:\n",
    "Original text:\n",
    "Alice goes to Wonderland and meets many strange creatures.\n",
    "\n",
    "Summary:\n",
    "Alice meets some people.\n",
    "\n",
    "Evaluation:\n",
    "- Result: Fail\n",
    "- Feedback: The summary is too vague and omits many important plot points.\n",
    "\n",
    "Now, evaluate the following summary:\n",
    "\n",
    "Original text:\n",
    "{original_text}\n",
    "\n",
    "Summary:\n",
    "{summary}\n",
    "\n",
    "Return your response in this format:\n",
    "- Result: <Pass or Fail>\n",
    "- Feedback: <Your feedback>\n",
    "<|assistant|>\n",
    "\"\"\""
   ]
  },
  {
   "cell_type": "code",
   "execution_count": 39,
   "id": "f7f3691c-cb4b-4925-ae0f-e7d55c71c582",
   "metadata": {},
   "outputs": [],
   "source": [
    "# regenerator prompt\n",
    "def get_regenerator_prompt(text, last_summary, feedback, summary_type):\n",
    "    if summary_type == \"long\":\n",
    "        prompt = f\"\"\"<|system|>\n",
    "You are a helpful AI assistant specialized in text summarization.\n",
    "<|user|>\n",
    "Please summarize the original text into three to five paragraphs (150–400 words), addressing the evaluator's feedback of the last summary below. Return only the summary. Do not include any introductory or concluding sentences, explanations, or conversational statements. Your output must be the summary only.\n",
    "\n",
    "Original text:\n",
    "{text}\n",
    "\n",
    "Last summary:\n",
    "{last_summary}\n",
    "\n",
    "Evaluator feedback of last summary:\n",
    "{feedback}\n",
    "<|assistant|>\n",
    "\"\"\"\n",
    "    elif summary_type == \"short\":\n",
    "        prompt = f\"\"\"<|system|>\n",
    "You are a helpful AI assistant specialized in text summarization.\n",
    "<|user|>\n",
    "Please summarize the original text in a single paragraph (100–150 words), addressing the evaluator's feedback of the last summary below. Return only the summary. Do not include any introductory or concluding sentences, explanations, or conversational statements. Your output must be the summary only.\n",
    "\n",
    "Original text:\n",
    "{text}\n",
    "\n",
    "Last summary:\n",
    "{last_summary}\n",
    "\n",
    "Evaluator feedback of last summary:\n",
    "{feedback}\n",
    "<|assistant|>\n",
    "\"\"\"\n",
    "    elif summary_type == \"tiny\":\n",
    "        prompt = f\"\"\"<|system|>\n",
    "You are a helpful AI assistant specialized in text summarization.\n",
    "<|user|>\n",
    "Please summarize the original text in a single sentence (15–40 words), addressing the evaluator's feedback of the last summary below. Return only the summary. Do not include any introductory or concluding sentences, explanations, or conversational statements. Your output must be the summary only.\n",
    "\n",
    "Original text:\n",
    "{text}\n",
    "\n",
    "Last summary:\n",
    "{last_summary}\n",
    "\n",
    "Evaluator feedback of last summary:\n",
    "{feedback}\n",
    "<|assistant|>\n",
    "\"\"\"\n",
    "    else:\n",
    "        raise ValueError(\"Invalid summary_type.\")\n",
    "    return prompt"
   ]
  },
  {
   "cell_type": "code",
   "execution_count": 40,
   "id": "d12dd6d9-7f21-4a67-be1a-690990b09420",
   "metadata": {},
   "outputs": [],
   "source": [
    "# define agents\n",
    "def summarizer_node(state):\n",
    "    summary_type = state[\"summary_type\"]\n",
    "    text = state[\"text\"]\n",
    "    if summary_type == \"long\":\n",
    "        prompt = get_long_summary_prompt(text)\n",
    "    elif summary_type == \"short\":\n",
    "        prompt = get_short_summary_prompt(text)\n",
    "    elif summary_type == \"tiny\":\n",
    "        prompt = get_tiny_summary_prompt(text)\n",
    "    else:\n",
    "        raise ValueError(\"Invalid summary_type.\")\n",
    "    state[\"summary\"] = llm(prompt)\n",
    "    return state\n",
    "\n",
    "def evaluator_node(state):\n",
    "    eval_prompt = build_evaluator_prompt(state[\"text\"], state[\"summary\"], state[\"summary_type\"])\n",
    "    eval_result = llm(eval_prompt)\n",
    "    state[\"eval_result\"] = eval_result\n",
    "    state[\"pass\"] = \"pass\" in eval_result.lower()\n",
    "    return state\n",
    "\n",
    "def regenerator_node(state):\n",
    "    state[\"attempts\"] = state.get(\"attempts\", 0) + 1\n",
    "    feedback = state[\"eval_result\"]\n",
    "    summary_type = state[\"summary_type\"]\n",
    "    text = state[\"text\"]\n",
    "    last_summary = state[\"summary\"]\n",
    "\n",
    "    prompt = get_regenerator_prompt(text, last_summary, feedback, summary_type)\n",
    "    state[\"summary\"] = llm(prompt)\n",
    "    return state\n",
    "\n",
    "def router(state):\n",
    "    if state.get(\"pass\", False) or state[\"attempts\"] >= 3:\n",
    "        return END\n",
    "    else:\n",
    "        print('Finished trial ' + str(state[\"attempts\"]+1))\n",
    "        return \"regenerator\""
   ]
  },
  {
   "cell_type": "code",
   "execution_count": 41,
   "id": "99d074a3-5e04-490e-bc56-7113a9c817e7",
   "metadata": {},
   "outputs": [],
   "source": [
    "# create graph\n",
    "class SummaryState(TypedDict, total=False):\n",
    "    text: str\n",
    "    summary_type: str\n",
    "    summary: str\n",
    "    eval_result: str\n",
    "    pass_: bool\n",
    "    attempts: int\n",
    "\n",
    "graph = StateGraph(state_schema=SummaryState)\n",
    "graph.add_node(\"summarizer\", summarizer_node)\n",
    "graph.add_node(\"evaluator\", evaluator_node)\n",
    "graph.add_node(\"regenerator\", regenerator_node)\n",
    "graph.add_edge(\"summarizer\", \"evaluator\")\n",
    "graph.add_conditional_edges(\"evaluator\", router)\n",
    "graph.add_edge(\"regenerator\", \"evaluator\")\n",
    "graph.set_entry_point(\"summarizer\")\n",
    "langgraph_pipeline = graph.compile()"
   ]
  },
  {
   "cell_type": "code",
   "execution_count": 42,
   "id": "10c18048-1faa-462e-83c5-3824f3af3e77",
   "metadata": {},
   "outputs": [
    {
     "data": {
      "image/png": "[encoded data removed]",
      "text/plain": [
       "<IPython.core.display.Image object>"
      ]
     },
     "metadata": {},
     "output_type": "display_data"
    }
   ],
   "source": [
    "# visualize graph\n",
    "display(\n",
    "    Image(\n",
    "        langgraph_pipeline.get_graph().draw_mermaid_png(\n",
    "            draw_method=MermaidDrawMethod.API,\n",
    "        )\n",
    "    )\n",
    ")"
   ]
  },
  {
   "cell_type": "code",
   "execution_count": 43,
   "id": "c21624d7-9363-41ac-9c0a-77c3a9fca297",
   "metadata": {},
   "outputs": [],
   "source": [
    "# clean generated text\n",
    "def clean_summary(text):\n",
    "    lines = text.strip().split('\\n')\n",
    "    cleaned_lines = []\n",
    "    stop_markers = re.compile(r'^\\s*(<\\|system\\|>|<\\|user\\|>|<\\|assistant\\|>|system|user|assistant|Generated text)', re.IGNORECASE)\n",
    "    skip_markers = re.compile(r'^\\s*(here|improved|revised|rewritten|summary)[^:]*:', re.IGNORECASE)\n",
    "\n",
    "    for line in lines:\n",
    "        if stop_markers.match(line):\n",
    "            break  # stop collecting lines\n",
    "        if skip_markers.match(line):\n",
    "            continue  # skip this line\n",
    "        stripped = line.strip()\n",
    "        if stripped:\n",
    "            cleaned_lines.append(stripped)\n",
    "    return '\\n\\n'.join(cleaned_lines)"
   ]
  },
  {
   "cell_type": "code",
   "execution_count": 44,
   "id": "7d830d67-dda6-46e0-af9c-33040cfeb229",
   "metadata": {},
   "outputs": [],
   "source": [
    "def get_summary(text, summary_type):\n",
    "    state = {\n",
    "        \"text\": text,\n",
    "        \"summary_type\": summary_type,\n",
    "        \"attempts\": 0\n",
    "    }\n",
    "    result = langgraph_pipeline.invoke(state)\n",
    "    if not result.get(\"pass\", False) and result[\"attempts\"] >= 3:\n",
    "        return \"Can't generate summary. Please try again.\"\n",
    "    else:\n",
    "        #print(result['eval_result'])\n",
    "        return clean_summary(result[\"summary\"])"
   ]
  },
  {
   "cell_type": "code",
   "execution_count": 27,
   "id": "d9e37665-b0d7-40e0-999d-766511672ec0",
   "metadata": {},
   "outputs": [
    {
     "name": "stdout",
     "output_type": "stream",
     "text": [
      "Peter, struggling with financial woes and personal troubles, seeks advice from Mr. Shimera, while elsewhere, Pavel and his companions flee their village, pursued by a dark past and haunted by the sound of a distant monastery bell.\n"
     ]
    }
   ],
   "source": [
    "# test one example\n",
    "print(get_summary(combined_text['combined_cleaned_whisper_text'].loc[20], \"tiny\"))"
   ]
  },
  {
   "cell_type": "code",
   "execution_count": null,
   "id": "aba20f52-ec3d-4e35-96f9-4eb530ac0595",
   "metadata": {},
   "outputs": [
    {
     "name": "stderr",
     "output_type": "stream",
     "text": [
      "  3%|▎         | 3/97 [02:01<1:02:57, 40.18s/it]"
     ]
    },
    {
     "name": "stdout",
     "output_type": "stream",
     "text": [
      "Finished trial 1\n",
      "Finished trial 2\n"
     ]
    },
    {
     "name": "stderr",
     "output_type": "stream",
     "text": [
      "  4%|▍         | 4/97 [03:23<1:27:51, 56.68s/it]"
     ]
    },
    {
     "name": "stdout",
     "output_type": "stream",
     "text": [
      "Finished trial 1\n"
     ]
    },
    {
     "name": "stderr",
     "output_type": "stream",
     "text": [
      "  6%|▌         | 6/97 [05:02<1:17:55, 51.38s/it]"
     ]
    },
    {
     "name": "stdout",
     "output_type": "stream",
     "text": [
      "Finished trial 1\n"
     ]
    },
    {
     "name": "stderr",
     "output_type": "stream",
     "text": [
      "  7%|▋         | 7/97 [06:27<1:33:40, 62.45s/it]"
     ]
    },
    {
     "name": "stdout",
     "output_type": "stream",
     "text": [
      "Finished trial 1\n",
      "Finished trial 1\n"
     ]
    },
    {
     "name": "stderr",
     "output_type": "stream",
     "text": [
      "  8%|▊         | 8/97 [07:56<1:45:20, 71.02s/it]"
     ]
    },
    {
     "name": "stdout",
     "output_type": "stream",
     "text": [
      "Finished trial 1\n"
     ]
    },
    {
     "name": "stderr",
     "output_type": "stream",
     "text": [
      " 11%|█▏        | 11/97 [10:29<1:19:29, 55.46s/it]"
     ]
    },
    {
     "name": "stdout",
     "output_type": "stream",
     "text": [
      "Finished trial 1\n",
      "Finished trial 1\n",
      "Finished trial 2\n"
     ]
    },
    {
     "name": "stderr",
     "output_type": "stream",
     "text": [
      " 15%|█▌        | 15/97 [14:19<1:10:39, 51.70s/it]"
     ]
    },
    {
     "name": "stdout",
     "output_type": "stream",
     "text": [
      "Finished trial 1\n"
     ]
    },
    {
     "name": "stderr",
     "output_type": "stream",
     "text": [
      " 21%|██        | 20/97 [17:43<52:01, 40.54s/it]  "
     ]
    },
    {
     "name": "stdout",
     "output_type": "stream",
     "text": [
      "Finished trial 1\n",
      "Finished trial 2\n",
      "Finished trial 3\n"
     ]
    },
    {
     "name": "stderr",
     "output_type": "stream",
     "text": [
      " 22%|██▏       | 21/97 [19:35<1:18:22, 61.87s/it]"
     ]
    },
    {
     "name": "stdout",
     "output_type": "stream",
     "text": [
      "Finished trial 1\n",
      "Finished trial 1\n"
     ]
    },
    {
     "name": "stderr",
     "output_type": "stream",
     "text": [
      " 33%|███▎      | 32/97 [29:23<57:34, 53.15s/it]  "
     ]
    },
    {
     "name": "stdout",
     "output_type": "stream",
     "text": [
      "Finished trial 1\n",
      "Finished trial 1\n"
     ]
    },
    {
     "name": "stderr",
     "output_type": "stream",
     "text": [
      " 46%|████▋     | 45/97 [41:00<49:49, 57.49s/it]  "
     ]
    },
    {
     "name": "stdout",
     "output_type": "stream",
     "text": [
      "Finished trial 1\n",
      "Finished trial 1\n"
     ]
    },
    {
     "name": "stderr",
     "output_type": "stream",
     "text": [
      " 51%|█████     | 49/97 [45:10<44:45, 55.95s/it]"
     ]
    },
    {
     "name": "stdout",
     "output_type": "stream",
     "text": [
      "Finished trial 1\n",
      "Finished trial 2\n",
      "Finished trial 3\n"
     ]
    },
    {
     "name": "stderr",
     "output_type": "stream",
     "text": [
      " 61%|██████    | 59/97 [54:12<32:32, 51.38s/it]"
     ]
    },
    {
     "name": "stdout",
     "output_type": "stream",
     "text": [
      "Finished trial 1\n"
     ]
    },
    {
     "name": "stderr",
     "output_type": "stream",
     "text": [
      " 64%|██████▍   | 62/97 [56:57<30:43, 52.68s/it]"
     ]
    },
    {
     "name": "stdout",
     "output_type": "stream",
     "text": [
      "Finished trial 1\n",
      "Finished trial 2\n",
      "Finished trial 1\n"
     ]
    },
    {
     "name": "stderr",
     "output_type": "stream",
     "text": [
      " 73%|███████▎  | 71/97 [1:05:12<20:55, 48.28s/it]"
     ]
    },
    {
     "name": "stdout",
     "output_type": "stream",
     "text": [
      "Finished trial 1\n"
     ]
    },
    {
     "name": "stderr",
     "output_type": "stream",
     "text": [
      " 75%|███████▌  | 73/97 [1:06:55<19:27, 48.66s/it]"
     ]
    }
   ],
   "source": [
    "combined_text[\"summary_long\"] = \"\"\n",
    "combined_text[\"summary_short\"] = \"\"\n",
    "combined_text[\"summary_tiny\"] = \"\"\n",
    "\n",
    "for idx, row in tqdm(combined_text.iterrows(), total=len(combined_text)):\n",
    "    text = row[\"combined_cleaned_whisper_text\"]\n",
    "    combined_text.at[idx, \"summary_long\"]  = get_summary(text, \"long\")\n",
    "    combined_text.at[idx, \"summary_short\"] = get_summary(text, \"short\")\n",
    "    combined_text.at[idx, \"summary_tiny\"]  = get_summary(text, \"tiny\")"
   ]
  },
  {
   "cell_type": "code",
   "execution_count": 50,
   "id": "1d35be1b-2afb-4232-9c87-af511cafddb7",
   "metadata": {},
   "outputs": [
    {
     "data": {
      "text/html": [
       "<div>\n",
       "<style scoped>\n",
       "    .dataframe tbody tr th:only-of-type {\n",
       "        vertical-align: middle;\n",
       "    }\n",
       "\n",
       "    .dataframe tbody tr th {\n",
       "        vertical-align: top;\n",
       "    }\n",
       "\n",
       "    .dataframe thead th {\n",
       "        text-align: right;\n",
       "    }\n",
       "</style>\n",
       "<table border=\"1\" class=\"dataframe\">\n",
       "  <thead>\n",
       "    <tr style=\"text-align: right;\">\n",
       "      <th></th>\n",
       "      <th>folder_path</th>\n",
       "      <th>combined_cleaned_whisper_text</th>\n",
       "      <th>named_entities</th>\n",
       "      <th>summary_long</th>\n",
       "      <th>summary_short</th>\n",
       "      <th>summary_tiny</th>\n",
       "    </tr>\n",
       "  </thead>\n",
       "  <tbody>\n",
       "    <tr>\n",
       "      <th>49</th>\n",
       "      <td>3853/163249</td>\n",
       "      <td>her meeting with ledi was indescribably tender...</td>\n",
       "      <td>[('ledi', 'PERSON'), ('christi', 'PERSON'), ('...</td>\n",
       "      <td>Can't generate summary. Please try again.</td>\n",
       "      <td>Christie and David, now a married couple, prep...</td>\n",
       "      <td>As Christie and David prepare for their weddin...</td>\n",
       "    </tr>\n",
       "    <tr>\n",
       "      <th>92</th>\n",
       "      <td>84/121550</td>\n",
       "      <td>but with full ravishment the hours of prime si...</td>\n",
       "      <td>[('prosupina', 'PERSON'), ('venus', 'PERSON'),...</td>\n",
       "      <td>Can't generate summary. Please try again.</td>\n",
       "      <td>As I walked with the lady, our path turned eas...</td>\n",
       "      <td>As Dante and Virgil journey through the afterl...</td>\n",
       "    </tr>\n",
       "  </tbody>\n",
       "</table>\n",
       "</div>"
      ],
      "text/plain": [
       "    folder_path                      combined_cleaned_whisper_text  \\\n",
       "49  3853/163249  her meeting with ledi was indescribably tender...   \n",
       "92    84/121550  but with full ravishment the hours of prime si...   \n",
       "\n",
       "                                       named_entities  \\\n",
       "49  [('ledi', 'PERSON'), ('christi', 'PERSON'), ('...   \n",
       "92  [('prosupina', 'PERSON'), ('venus', 'PERSON'),...   \n",
       "\n",
       "                                 summary_long  \\\n",
       "49  Can't generate summary. Please try again.   \n",
       "92  Can't generate summary. Please try again.   \n",
       "\n",
       "                                        summary_short  \\\n",
       "49  Christie and David, now a married couple, prep...   \n",
       "92  As I walked with the lady, our path turned eas...   \n",
       "\n",
       "                                         summary_tiny  \n",
       "49  As Christie and David prepare for their weddin...  \n",
       "92  As Dante and Virgil journey through the afterl...  "
      ]
     },
     "execution_count": 50,
     "metadata": {},
     "output_type": "execute_result"
    }
   ],
   "source": [
    "# check rows without successful generation in 3 trials\n",
    "summary_cols = ['summary_long', 'summary_short', 'summary_tiny']\n",
    "invalid_msg = \"Can't generate summary. Please try again.\"\n",
    "\n",
    "llama3_fail = combined_text[(combined_text[summary_cols] == invalid_msg).any(axis=1)]\n",
    "llama3_fail"
   ]
  },
  {
   "cell_type": "code",
   "execution_count": 51,
   "id": "2ce7869b-1d15-4a23-84f9-bce6d33e0a45",
   "metadata": {},
   "outputs": [
    {
     "name": "stdout",
     "output_type": "stream",
     "text": [
      "Finished trial 1\n",
      "Finished trial 2\n"
     ]
    }
   ],
   "source": [
    "# manully regenerate summary for these rows\n",
    "for idx, row in llama3_fail.iterrows():\n",
    "    text = row['combined_cleaned_whisper_text']\n",
    "    combined_text.at[idx, \"summary_long\"]  = get_summary(text, \"long\")\n",
    "    combined_text.at[idx, \"summary_short\"] = get_summary(text, \"short\")\n",
    "    combined_text.at[idx, \"summary_tiny\"]  = get_summary(text, \"tiny\")\n"
   ]
  },
  {
   "cell_type": "code",
   "execution_count": 52,
   "id": "2b251ffd-0ad6-47cf-b5b9-6dcaccd8cd2f",
   "metadata": {},
   "outputs": [
    {
     "data": {
      "text/html": [
       "<div>\n",
       "<style scoped>\n",
       "    .dataframe tbody tr th:only-of-type {\n",
       "        vertical-align: middle;\n",
       "    }\n",
       "\n",
       "    .dataframe tbody tr th {\n",
       "        vertical-align: top;\n",
       "    }\n",
       "\n",
       "    .dataframe thead th {\n",
       "        text-align: right;\n",
       "    }\n",
       "</style>\n",
       "<table border=\"1\" class=\"dataframe\">\n",
       "  <thead>\n",
       "    <tr style=\"text-align: right;\">\n",
       "      <th></th>\n",
       "      <th>folder_path</th>\n",
       "      <th>combined_cleaned_whisper_text</th>\n",
       "      <th>named_entities</th>\n",
       "      <th>summary_long</th>\n",
       "      <th>summary_short</th>\n",
       "      <th>summary_tiny</th>\n",
       "    </tr>\n",
       "  </thead>\n",
       "  <tbody>\n",
       "  </tbody>\n",
       "</table>\n",
       "</div>"
      ],
      "text/plain": [
       "Empty DataFrame\n",
       "Columns: [folder_path, combined_cleaned_whisper_text, named_entities, summary_long, summary_short, summary_tiny]\n",
       "Index: []"
      ]
     },
     "execution_count": 52,
     "metadata": {},
     "output_type": "execute_result"
    }
   ],
   "source": [
    "# check rows without successful generation in 3 trials again\n",
    "llama3_fail = combined_text[(combined_text[summary_cols] == invalid_msg).any(axis=1)]\n",
    "llama3_fail"
   ]
  },
  {
   "cell_type": "code",
   "execution_count": null,
   "id": "51d44b57-f1ef-4f08-9c66-71dd0cb39457",
   "metadata": {},
   "outputs": [],
   "source": [
    "combined_text.to_csv(\"data/llama_agent_summary.csv\", index = False)"
   ]
  },
  {
   "cell_type": "code",
   "execution_count": null,
   "id": "78b7813c",
   "metadata": {},
   "outputs": [],
   "source": []
  }
 ],
 "metadata": {
  "kernelspec": {
   "display_name": "zfq0",
   "language": "python",
   "name": "python3"
  },
  "language_info": {
   "codemirror_mode": {
    "name": "ipython",
    "version": 3
   },
   "file_extension": ".py",
   "mimetype": "text/x-python",
   "name": "python",
   "nbconvert_exporter": "python",
   "pygments_lexer": "ipython3",
   "version": "3.12.2"
  }
 },
 "nbformat": 4,
 "nbformat_minor": 5
}
